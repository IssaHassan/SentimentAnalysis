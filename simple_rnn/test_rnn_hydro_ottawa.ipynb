{
 "cells": [
  {
   "cell_type": "code",
   "execution_count": 3,
   "metadata": {},
   "outputs": [],
   "source": [
    "import pandas as pd\n",
    "\n",
    "data = pd.read_csv('./data/HydroOttawaAnnotatedData.csv')\n",
    "\n",
    "# ho = hydro ottawa\n",
    "ho_x_test = data['Tweet']\n",
    "ho_y_test = data['Sentiment']"
   ]
  },
  {
   "cell_type": "code",
   "execution_count": 6,
   "metadata": {},
   "outputs": [],
   "source": [
    "import pickle\n",
    "from keras.models import load_model\n",
    "\n",
    "# load tokenizer: \n",
    "# That's the one we will use to vectorize our data where we want to get the prediction\n",
    "with open('./tokenizer/tokenizer.pickle', 'rb') as handle:\n",
    "    tokenizer = pickle.load(handle)\n",
    "\n",
    "# load rnn model\n",
    "rnn_model = load_model('./models/rnn-model-01-0.8293.hdf5')"
   ]
  },
  {
   "cell_type": "code",
   "execution_count": 10,
   "metadata": {},
   "outputs": [
    {
     "name": "stdout",
     "output_type": "stream",
     "text": [
      "238/238 [==============================] - 0s 866us/step\n",
      "Accuracy:  73.10924369747899\n"
     ]
    }
   ],
   "source": [
    "from sklearn.metrics import accuracy_score\n",
    "from keras.preprocessing.sequence import pad_sequences\n",
    "\n",
    "ho_test_sequences = tokenizer.texts_to_sequences(ho_x_test)\n",
    "padded_ho_test_sequences = pad_sequences(ho_test_sequences, maxlen=35)\n",
    "\n",
    "ho_y_pred = rnn_model.predict(padded_ho_test_sequences, verbose=1, batch_size=2048)\n",
    "\n",
    "ho_y_pred = pd.DataFrame(ho_y_pred, columns=['prediction'])\n",
    "ho_y_pred['prediction'] = ho_y_pred['prediction'].map(lambda p: 1 if p >= 0.5 else 0)\n",
    "print('Accuracy: ', accuracy_score(ho_y_test, ho_y_pred)*100)"
   ]
  },
  {
   "cell_type": "code",
   "execution_count": null,
   "metadata": {},
   "outputs": [],
   "source": []
  }
 ],
 "metadata": {
  "kernelspec": {
   "display_name": "Python 3",
   "language": "python",
   "name": "python3"
  },
  "language_info": {
   "codemirror_mode": {
    "name": "ipython",
    "version": 3
   },
   "file_extension": ".py",
   "mimetype": "text/x-python",
   "name": "python",
   "nbconvert_exporter": "python",
   "pygments_lexer": "ipython3",
   "version": "3.6.6"
  }
 },
 "nbformat": 4,
 "nbformat_minor": 2
}
