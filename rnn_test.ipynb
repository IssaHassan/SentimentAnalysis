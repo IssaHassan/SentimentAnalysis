{
  "nbformat": 4,
  "nbformat_minor": 0,
  "metadata": {
    "colab": {
      "name": "rnn-test.ipynb",
      "version": "0.3.2",
      "provenance": [],
      "collapsed_sections": []
    },
    "kernelspec": {
      "name": "python3",
      "display_name": "Python 3"
    }
  },
  "cells": [
    {
      "metadata": {
        "id": "zUWe1yBLXk1H",
        "colab_type": "code",
        "outputId": "9e6b31f6-73ff-42dc-de36-b96598487fdd",
        "colab": {
          "base_uri": "https://localhost:8080/",
          "height": 122
        }
      },
      "cell_type": "code",
      "source": [
        "from google.colab import drive\n",
        "drive.mount('/content/drive/')"
      ],
      "execution_count": 1,
      "outputs": [
        {
          "output_type": "stream",
          "text": [
            "Go to this URL in a browser: https://accounts.google.com/o/oauth2/auth?client_id=947318989803-6bn6qk8qdgf4n4g3pfee6491hc0brc4i.apps.googleusercontent.com&redirect_uri=urn%3Aietf%3Awg%3Aoauth%3A2.0%3Aoob&scope=email%20https%3A%2F%2Fwww.googleapis.com%2Fauth%2Fdocs.test%20https%3A%2F%2Fwww.googleapis.com%2Fauth%2Fdrive%20https%3A%2F%2Fwww.googleapis.com%2Fauth%2Fdrive.photos.readonly%20https%3A%2F%2Fwww.googleapis.com%2Fauth%2Fpeopleapi.readonly&response_type=code\n",
            "\n",
            "Enter your authorization code:\n",
            "··········\n",
            "Mounted at /content/drive/\n"
          ],
          "name": "stdout"
        }
      ]
    },
    {
      "metadata": {
        "id": "9l3Ca0FpI5O_",
        "colab_type": "code",
        "outputId": "3e5206ab-2056-4b12-ea4a-f7583df250b2",
        "colab": {
          "base_uri": "https://localhost:8080/",
          "height": 34
        }
      },
      "cell_type": "code",
      "source": [
        "import pandas as pd\n",
        "import pickle\n",
        "from keras.models import load_model\n",
        "from sklearn.metrics import accuracy_score\n",
        "from keras.preprocessing.sequence import pad_sequences\n",
        "\n",
        "def get_accuracy(data_path, tokenizer_path, model_path):\n",
        "  data = pd.read_csv(data_path)\n",
        "  ho_x_test = data['Tweet']\n",
        "  ho_y_test = data['Sentiment']\n",
        "  # load tokenizer: \n",
        "  # That's the one we will use to vectorize our data where we want to get the prediction\n",
        "  with open(tokenizer_path, 'rb') as handle:\n",
        "      tokenizer = pickle.load(handle)\n",
        "  # load rnn model\n",
        "  rnn_model = load_model(model_path)\n",
        "  ho_test_sequences = tokenizer.texts_to_sequences(ho_x_test)\n",
        "  padded_ho_test_sequences = pad_sequences(ho_test_sequences, maxlen=35)\n",
        "  ho_y_pred = rnn_model.predict(padded_ho_test_sequences, verbose=1, batch_size=2048)\n",
        "  ho_y_pred = pd.DataFrame(ho_y_pred, columns=['prediction'])\n",
        "  ho_y_pred['prediction'] = ho_y_pred['prediction'].map(lambda p: 1 if p >= 0.5 else 0)\n",
        "  return accuracy_score(ho_y_test, ho_y_pred)*100\n",
        "\n",
        "\n"
      ],
      "execution_count": 2,
      "outputs": [
        {
          "output_type": "stream",
          "text": [
            "Using TensorFlow backend.\n"
          ],
          "name": "stderr"
        }
      ]
    },
    {
      "metadata": {
        "id": "bXp8B4kFwlbb",
        "colab_type": "code",
        "colab": {
          "base_uri": "https://localhost:8080/",
          "height": 85
        },
        "outputId": "96d0fc6a-a96c-4388-9532-92cdd5246c53"
      },
      "cell_type": "code",
      "source": [
        "# RNN-GloVe test\n",
        "print('Hydro Ottawa dataset accuracy: ', \n",
        "      get_accuracy('/content/drive/My Drive/SentimentAnalysis/rnn/data/HydroOttawaAnnotatedData.csv',\n",
        "                   '/content/drive/My Drive/SentimentAnalysis/rnn/tokenizers/tokenizer.pickle',\n",
        "                   '/content/drive/My Drive/SentimentAnalysis/rnn/models/rnn-glove-model-01-0.8362.hdf5'))\n",
        "\n",
        "print('Manually created dataset accuracy: ',\n",
        "      get_accuracy('/content/drive/My Drive/SentimentAnalysis/rnn/data/CompiledTweets.csv',\n",
        "                   '/content/drive/My Drive/SentimentAnalysis/rnn/tokenizers/tokenizer.pickle',\n",
        "                   '/content/drive/My Drive/SentimentAnalysis/rnn/models/rnn-glove-model-01-0.8362.hdf5'))\n"
      ],
      "execution_count": 5,
      "outputs": [
        {
          "output_type": "stream",
          "text": [
            "\r238/238 [==============================] - 1s 4ms/step\n",
            "Hydro Ottawa dataset accuracy:  73.52941176470588\n",
            "443/443 [==============================] - 1s 3ms/step\n",
            "Manually created dataset accuracy:  89.61625282167043\n"
          ],
          "name": "stdout"
        }
      ]
    },
    {
      "metadata": {
        "id": "_0kkFO1HvaK-",
        "colab_type": "code",
        "colab": {
          "base_uri": "https://localhost:8080/",
          "height": 85
        },
        "outputId": "1f0590a6-2990-4e7c-cf25-38ef65fb9d8b"
      },
      "cell_type": "code",
      "source": [
        "# RNN-Word2Vec test\n",
        "print('Hydro Ottawa dataset accuracy: ', \n",
        "      get_accuracy('/content/drive/My Drive/SentimentAnalysis/rnn/data/HydroOttawaAnnotatedData.csv',\n",
        "                   '/content/drive/My Drive/SentimentAnalysis/rnn/tokenizers/tokenizer-rnn-word2vec.pickle',\n",
        "                   '/content/drive/My Drive/SentimentAnalysis/rnn/models/rnn-word2vec-model-03-0.8425.hdf5'))\n",
        "\n",
        "print('Manually created dataset accuracy: ',\n",
        "      get_accuracy('/content/drive/My Drive/SentimentAnalysis/rnn/data/CompiledTweets.csv',\n",
        "                   '/content/drive/My Drive/SentimentAnalysis/rnn/tokenizers/tokenizer-rnn-word2vec.pickle',\n",
        "                   '/content/drive/My Drive/SentimentAnalysis/rnn/models/rnn-word2vec-model-03-0.8425.hdf5'))"
      ],
      "execution_count": 4,
      "outputs": [
        {
          "output_type": "stream",
          "text": [
            "\r238/238 [==============================] - 1s 2ms/step\n",
            "Hydro Ottawa dataset accuracy:  71.84873949579831\n",
            "443/443 [==============================] - 1s 2ms/step\n",
            "Manually created dataset accuracy:  90.06772009029346\n"
          ],
          "name": "stdout"
        }
      ]
    },
    {
      "metadata": {
        "id": "HHNdbdkE01r0",
        "colab_type": "code",
        "colab": {}
      },
      "cell_type": "code",
      "source": [
        ""
      ],
      "execution_count": 0,
      "outputs": []
    }
  ]
}